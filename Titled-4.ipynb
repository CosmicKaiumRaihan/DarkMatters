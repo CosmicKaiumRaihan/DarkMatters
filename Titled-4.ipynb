{
 "cells": [
  {
   "cell_type": "code",
   "execution_count": 6,
   "metadata": {},
   "outputs": [
    {
     "name": "stdout",
     "output_type": "stream",
     "text": [
      "The autoreload extension is already loaded. To reload it, use:\n",
      "  %reload_ext autoreload\n"
     ]
    }
   ],
   "source": [
    "%load_ext autoreload\n",
    "%autoreload 2\n",
    "from dark_matters.input import read_input_file,read_dm_output\n",
    "from dark_matters.calculations import run_calculation\n",
    "from dark_matters.output import fits_map,make_output\n",
    "from astropy import units\n",
    "from astropy.coordinates import SkyCoord\n",
    "from matplotlib import pyplot as plt\n",
    "import numpy as np "
   ]
  },
  {
   "cell_type": "code",
   "execution_count": 7,
   "metadata": {},
   "outputs": [
    {
     "name": "stdout",
     "output_type": "stream",
     "text": [
      "*******************************************************\n",
      "                   Warning\n",
      "*******************************************************\n",
      "Loading coma_bb_mx-100GeV_for-practice_sync_flux.yaml with yaml.UnsafeLoader (probably due to numpy objects)\n",
      "*******************************************************\n"
     ]
    }
   ],
   "source": [
    "in_data = read_dm_output(\"coma_bb_mx-100GeV_for-practice_sync_flux.yaml\")\n"
   ]
  },
  {
   "cell_type": "code",
   "execution_count": 8,
   "metadata": {},
   "outputs": [
    {
     "name": "stdout",
     "output_type": "stream",
     "text": [
      "*******************************************************\n",
      "                   Warning\n",
      "*******************************************************\n",
      "part_data['spectrum_directory'] = C:\\Users\\Geoff\\Documents\\MEGA\\Physics\\Wimps\\DarkMatters\\dark_matters\\particle_physics is not a valid folder, using default instead\n",
      "*******************************************************\n",
      "=======================================================\n",
      "Beginning DarkMatters calculations\n",
      "=======================================================\n",
      "Frequency mode: radio\n",
      "Calculation type: flux\n",
      "=======================================================\n",
      "Run Parameters\n",
      "=======================================================\n",
      "Frequency Samples: 100\n",
      "Minimum Frequency Sampled: 1.00e+01 MHz (4.14e-17 GeV) \n",
      "Maximum Frequency Sampled: 1.00e+04 MHz (4.14e-14 GeV)\n",
      "Radial Grid Intervals: 80\n",
      "Minimum Sampled Radius: 2.87e-03 Mpc\n",
      "Maximum Sampled Radius: 4.15e-01 Mpc\n",
      "=======================================================\n",
      "Halo Parameters: \n",
      "=======================================================\n",
      "Halo Name: coma\n",
      "Redshift z: 2.31e-02\n",
      "Luminosity Distance: 1.04e+02 Mpc\n",
      "Halo profile: nfw\n",
      "Virial Mass: 1.20e+15 Solar Masses\n",
      "Virial Radius: 2.70e+00 Mpc\n",
      "Halo scale radius: 2.87e-01 Mpc\n",
      "Rho_s/Rho_crit: 2.16e+04\n",
      "Virial Concentration: 9.40\n",
      "=======================================================\n",
      "Gas Parameters: \n",
      "=======================================================\n",
      "Gas density profile: flat\n",
      "gas_norm: 0.00349 cm^-3 \n",
      "=======================================================\n",
      "Magnetic Field Parameters: \n",
      "=======================================================\n",
      "Magnetic field profile: beta\n",
      "mag_norm: 4.7 micro-Gauss \n",
      "scale: 0.253 Mpc \n",
      "index: -0.327\n",
      "Spatial Diffusion\n",
      "Turbulence index: 0.33\n",
      "Diffusion constant: 3.10e+28 cm^2 s^-1\n",
      "======================================================= \n",
      "Now calculating for Dark Matter model: \n",
      "=======================================================\n",
      "WIMP mass: 100.0 GeV\n",
      "Particle physics: bb\n",
      "Emission type: annihilation\n",
      "=======================================================\n",
      "Electron Equilibrium distribution exists for WIMP mass 100.0 GeV and over_write=False, skipping\n",
      "=======================================================\n",
      "Process Complete\n",
      "=======================================================\n",
      "Calculating Radio Emissivity\n",
      "=======================================================\n",
      "Process Complete\n",
      "=======================================================\n",
      "Calculating Flux\n",
      "=======================================================\n",
      "Frequency mode: radio\n",
      "Integration radius: 4.15e-01 Mpc\n",
      "Process Complete\n"
     ]
    }
   ],
   "source": [
    "out_data = run_calculation(**in_data,over_write_electrons=False,clear=\"final\")"
   ]
  },
  {
   "cell_type": "code",
   "execution_count": 9,
   "metadata": {},
   "outputs": [
    {
     "name": "stdout",
     "output_type": "stream",
     "text": [
      "{'halo_data': {'name': 'coma', 'profile': 'nfw', 'scale': np.float64(0.287), 'cvir': 9.4, 'rvir': np.float64(2.7), 'mvir': np.float64(1200000000000000.0), 'z': 0.0231, 'halo_weights': 'flat'}, 'mag_data': {'profile': 'beta', 'mag_norm': np.float64(4.7), 'index': -0.327, 'scale': np.float64(0.253), 'mag_func_lock': False}, 'gas_data': {'profile': 'flat', 'gas_norm': np.float64(0.00349)}, 'diff_data': {'loss_only': False, 'diff_index': 0.33333, 'diff_constant': np.float64(3.1e+28), 'diff_rmax': np.float64(0.41500000000000004)}, 'part_data': {'part_model': 'bb', 'em_model': 'annihilation', 'cross_section': 3e-26}, 'calc_data': {'calc_mode': 'flux', 'freq_mode': 'radio', 'm_wimp': array([100.]), 'f_sample_num': 80, 'f_sample_limits': array([   10., 10000.]), 'rmax_integrate': -1, 'electron_mode': 'os-python', 'os_delta_t_min': 0.1}, 'cosmo_data': {}}\n"
     ]
    }
   ],
   "source": [
    "data_sets = read_input_file(\"coma_flux.yaml\")\n",
    "print(data_sets)"
   ]
  },
  {
   "cell_type": "code",
   "execution_count": 10,
   "metadata": {},
   "outputs": [
    {
     "name": "stdout",
     "output_type": "stream",
     "text": [
      "=======================================================\n",
      "Beginning DarkMatters calculations\n",
      "=======================================================\n",
      "Frequency mode: radio\n",
      "Calculation type: flux\n",
      "=======================================================\n",
      "Run Parameters\n",
      "=======================================================\n",
      "Frequency Samples: 80\n",
      "Minimum Frequency Sampled: 1.00e+01 MHz (4.14e-17 GeV) \n",
      "Maximum Frequency Sampled: 1.00e+04 MHz (4.14e-14 GeV)\n",
      "Radial Grid Intervals: 80\n",
      "Minimum Sampled Radius: 2.87e-03 Mpc\n",
      "Maximum Sampled Radius: 4.15e-01 Mpc\n",
      "=======================================================\n",
      "Halo Parameters: \n",
      "=======================================================\n",
      "Halo Name: coma\n",
      "Redshift z: 2.31e-02\n",
      "Luminosity Distance: 1.04e+02 Mpc\n",
      "Halo profile: nfw\n",
      "Virial Mass: 1.20e+15 Solar Masses\n",
      "Virial Radius: 2.70e+00 Mpc\n",
      "Halo scale radius: 2.87e-01 Mpc\n",
      "Rho_s/Rho_crit: 2.16e+04\n",
      "Virial Concentration: 9.40\n",
      "=======================================================\n",
      "Gas Parameters: \n",
      "=======================================================\n",
      "Gas density profile: flat\n",
      "gas_norm: 0.00349 cm^-3 \n",
      "=======================================================\n",
      "Magnetic Field Parameters: \n",
      "=======================================================\n",
      "Magnetic field profile: beta\n",
      "mag_norm: 4.7 micro-Gauss \n",
      "scale: 0.253 Mpc \n",
      "index: -0.327\n",
      "Spatial Diffusion\n",
      "Turbulence index: 0.33\n",
      "Diffusion constant: 3.10e+28 cm^2 s^-1\n",
      "======================================================= \n",
      "Now calculating for Dark Matter model: \n",
      "=======================================================\n",
      "WIMP mass: 100.0 GeV\n",
      "Particle physics: bb\n",
      "Emission type: annihilation\n",
      "=======================================================\n",
      "Calculating Electron Equilibriumn Distributions\n",
      "=======================================================\n",
      "Solution via: OS method (python implementation)\n",
      "=======================================================\n",
      "OS environment details\n",
      "=======================================================\n",
      "Included effects: all\n",
      "Domain grid sizes: r_bins: 80, E_bins: 80\n",
      "Step sizes: Delta_r = 0.027, Delta_E = 0.067\n",
      "Initial time step: delta_t = 1e+09 yr\n",
      "Constant time step: False\n",
      "\n",
      "=======================================================\n",
      "OS run details\n",
      "=======================================================\n",
      "Sparsity of loss matrices A, B: 99.969%\n",
      "Sparsity of diffusion matrices A, B: 99.954%\n",
      "Stability tolerance: 1e-05\n",
      "Stability tolerance at final time-scale: 0.001\n",
      "Beginning OS solution...\n",
      "OS Progess: |███████████████████████████---| 90.2% \n",
      "OS loop completed.\n",
      "Convergence: True\n",
      "Total number of iterations: 3535\n",
      "Total elapsed time at final iteration: 2.02e+11 yr\n",
      "OS solution complete.\n",
      "Total OS method run time: 25.26 s\n",
      "Process Complete\n",
      "=======================================================\n",
      "Calculating Radio Emissivity\n",
      "=======================================================\n",
      "Process Complete\n",
      "=======================================================\n",
      "Calculating Flux\n",
      "=======================================================\n",
      "Frequency mode: radio\n",
      "Integration radius: 4.15e-01 Mpc\n",
      "Process Complete\n"
     ]
    }
   ],
   "source": [
    "out_data1 = run_calculation(**data_sets)"
   ]
  },
  {
   "cell_type": "code",
   "execution_count": 11,
   "metadata": {},
   "outputs": [
    {
     "name": "stdout",
     "output_type": "stream",
     "text": [
      "{'electron_data': 'GeV/cm^3', 'radio_em_data': 'GeV/cm^3', 'primary_em_data': 'GeV/cm^3', 'secondary_em_data': 'GeV/cm^3', 'f_sample_values': 'MHz', 'final_data': 'Jy', 'r_sample_values': 'Mpc', 'e_sample_values': 'GeV'}\n"
     ]
    },
    {
     "data": {
      "image/png": "[encoded data removed]",
      "text/plain": [
       "<Figure size 640x480 with 1 Axes>"
      ]
     },
     "metadata": {},
     "output_type": "display_data"
    }
   ],
   "source": [
    "print(out_data['calc_data']['results']['units'])\n",
    "for i in range(len(out_data['calc_data']['m_wimp'])):\n",
    "    plt.plot(out_data['calc_data']['results']['f_sample_values'],out_data['calc_data']['results']['final_data'][i],label=r\"$M_\\chi$ = \"+str(out_data['calc_data']['m_wimp'][i])+\" GeV\")\n",
    "    plt.plot(out_data1['calc_data']['results']['f_sample_values'],out_data1['calc_data']['results']['final_data'][i],label=r\"$M_\\chi$ = \"+str(out_data1['calc_data']['m_wimp'][i])+\" GeV\")\n",
    "plt.xscale(\"log\")\n",
    "plt.yscale(\"log\")\n",
    "plt.ylabel(r\"S$(\\nu)$ (Jy)\",fontsize=16)\n",
    "plt.xlabel(r\"$\\nu$ (MHz)\",fontsize=16)\n",
    "plt.xticks(fontsize=13)\n",
    "plt.yticks(fontsize=13)\n",
    "plt.legend()\n",
    "plt.show()"
   ]
  }
 ],
 "metadata": {
  "kernelspec": {
   "display_name": "project_env",
   "language": "python",
   "name": "python3"
  },
  "language_info": {
   "codemirror_mode": {
    "name": "ipython",
    "version": 3
   },
   "file_extension": ".py",
   "mimetype": "text/x-python",
   "name": "python",
   "nbconvert_exporter": "python",
   "pygments_lexer": "ipython3",
   "version": "3.12.3"
  }
 },
 "nbformat": 4,
 "nbformat_minor": 2
}
