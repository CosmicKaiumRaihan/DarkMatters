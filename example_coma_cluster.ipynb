{
 "cells": [
  {
   "cell_type": "code",
   "execution_count": 61,
   "metadata": {},
   "outputs": [
    {
     "name": "stdout",
     "output_type": "stream",
     "text": [
      "The autoreload extension is already loaded. To reload it, use:\n",
      "  %reload_ext autoreload\n"
     ]
    }
   ],
   "source": [
    "%load_ext autoreload\n",
    "%autoreload 2\n",
    "from dark_matters.input import readInputFile"
   ]
  },
  {
   "cell_type": "markdown",
   "metadata": {},
   "source": [
    "Next I will read in the halo data for the Coma cluster"
   ]
  },
  {
   "cell_type": "code",
   "execution_count": 62,
   "metadata": {},
   "outputs": [
    {
     "name": "stdout",
     "output_type": "stream",
     "text": [
      "{'haloData': {'haloName': 'coma', 'haloProfile': 'nfw', 'haloScale': 0.333, 'haloZ': 0.0231, 'haloNorm': 1860000000000000.2}, 'magData': {'magProfile': 'beta', 'magNorm': 4.7, 'magIndex': -0.1635, 'magScale': 0.253, 'magFuncLock': False}, 'gasData': {'gasProfile': 'beta', 'gasNorm': 0.00349, 'gasScale': 0.253, 'gasIndex': -0.327}, 'diffData': {'lossOnly': False, 'coherenceScale': 0.002, 'diffIndex': 1.66666666}, 'partData': {}, 'calcData': {}, 'cosmoData': {}}\n"
     ]
    }
   ],
   "source": [
    "dataSets = readInputFile(\"coma.yaml\")\n",
    "print(dataSets)"
   ]
  },
  {
   "cell_type": "markdown",
   "metadata": {},
   "source": [
    "The dictionary above contains entries for the Coma environment, namely: haloData, magData, and gasData\n",
    "These describe the halo, magnetic field, and gas distribution respectively. The other dictionaries are empty. I will read them in from a separate file. First I will assign some variables to the dictionaries"
   ]
  },
  {
   "cell_type": "code",
   "execution_count": 63,
   "metadata": {},
   "outputs": [
    {
     "name": "stdout",
     "output_type": "stream",
     "text": [
      "{'haloData': {}, 'magData': {}, 'gasData': {}, 'diffData': {}, 'partData': {'partModel': 'bb', 'emModel': 'annihilation'}, 'calcData': {'calcMode': 'sb', 'freqMode': 'radio', 'mWIMP': array([100.]), 'fSampleLimits': array([1.e+01, 1.e+05]), 'fSampleNum': 40, 'fSampleSpacing': 'log', 'log10RSampleMinFactor': -3, 'log10ESampleMinFactor': -3, 'calcRmax': 1.0, 'rSampleNum': 61, 'rOutputSpacing': 'log', 'eSampleNum': 71, 'rGreenSampleNum': 121, 'electronExecFile': 'dark_matters/emissions/electron.x', 'electronMode': 'crank-python', 'results': {'electronData': [], 'radioEmData': [], 'primaryEmData': [], 'secondaryEmData': [], 'finalData': [], 'neutrinoEmData': []}}, 'cosmoData': {}}\n"
     ]
    }
   ],
   "source": [
    "haloData = dataSets['haloData']\n",
    "gasData = dataSets['gasData']\n",
    "magData = dataSets['magData']\n",
    "diffData = dataSets['diffData']\n",
    "\n",
    "dataSets2 = readInputFile(\"calculation.yaml\")\n",
    "print(dataSets2)"
   ]
  },
  {
   "cell_type": "markdown",
   "metadata": {},
   "source": [
    "This file contains only partData and calcData (cosmoData can always be left empty and Planck 2019 results will be used). This is a neat way to keep halo environments separate from the operations you want to perform on them. I will assign the remaining dictionaries below"
   ]
  },
  {
   "cell_type": "code",
   "execution_count": 64,
   "metadata": {},
   "outputs": [],
   "source": [
    "calcData = dataSets2['calcData']\n",
    "partData = dataSets2['partData']\n",
    "cosmoData = dataSets2['cosmoData']"
   ]
  },
  {
   "cell_type": "markdown",
   "metadata": {},
   "source": [
    "All I need to do is call the runCalculation routine, note that it takes in all the dictionaries and returns them all"
   ]
  },
  {
   "cell_type": "code",
   "execution_count": 65,
   "metadata": {},
   "outputs": [
    {
     "name": "stdout",
     "output_type": "stream",
     "text": [
      "=========================================================\n",
      "Beginning DarkMatters calculations\n",
      "=========================================================\n",
      "Frequency mode: radio\n",
      "Calculation type: sb\n",
      "======================================================\n",
      "Run Parameters\n",
      "======================================================\n",
      "Frequency Samples: 40\n",
      "Minimum Frequency Sampled: 1.0e+01 MHz\n",
      "Maximum Frequency Sampled: 1.0e+05 MHz\n",
      "Radial Grid Intervals: 61\n",
      "Green's Function Grid Intervals: 121\n",
      "Minimum Sampled Radius: 3.33e-04 Mpc\n",
      "Maximum Sampled Radius: 5.43e+00 Mpc\n",
      "======================================================\n",
      "Halo Parameters: \n",
      "======================================================\n",
      "Halo Name: coma\n",
      "Redshift z: 2.31e-02\n",
      "Luminosity Distance: 104.03 Mpc\n",
      "Halo profile: nfw\n",
      "Virial Mass: 1.14e+15 Solar Masses\n",
      "Virial Radius: 2.72e+00 Mpc\n",
      "Halo scale radius: 3.33e-01 Mpc\n",
      "Rho_s/Rho_crit: 1.43e+04\n",
      "Virial Concentration: 8.2\n",
      "======================================================\n",
      "Gas Parameters: \n",
      "======================================================\n",
      "Gas density profile: beta\n",
      "gasScale: 0.253 Mpc\n",
      "gasIndex: -0.327\n",
      "gasNorm: 0.00349 cm^-3\n",
      "======================================================\n",
      "Magnetic Field Parameters: \n",
      "======================================================\n",
      "Magnetic field profile: beta\n",
      "magNorm: 4.7 micro-Gauss\n",
      "magScale: 0.253 Mpc\n",
      "magIndex: -0.1635\n",
      "Spatial Diffusion\n",
      "Turbulence scale: 2.00e+00 kpc\n",
      "Turbulence index: 1.67\n",
      "Diffusion constant: 3.00e+28 cm^2 s^-1\n",
      "======================================================\n",
      "Dark Matter Parameters: \n",
      "======================================================\n",
      "WIMP mass: 100.0 GeV\n",
      "Dark matter particle physics: bb\n",
      "Emission type: annihilation\n",
      "=========================================================\n",
      "Calculating Electron Equilibriumn Distributions via Crank-Nicolson with Python\n",
      "=========================================================\n",
      "=========================\n",
      "Equation environment details\n",
      "=========================\n",
      "Included effects: all\n",
      "Domain grid sizes: r_bins: 61, E_bins: 71\n",
      "Step sizes: Delta_r = 0.07, Delta_E = 0.043\n",
      "Initial time step: Delta_t = 5e+08 yr\n",
      "Constant time step: False\n",
      "\n",
      "=========================\n",
      "CN run details\n",
      "=========================\n",
      "Sparsity of loss matrices A, B: 99.954%\n",
      "Sparsity of diffusion matrices A, B: 99.931%\n",
      "Beginning CN solution... \n",
      "\n",
      "Timescale switching activated, Delta t changing to: 2.5e+08 yr\n",
      "Numer of iterations since previous Delta t: 101\n",
      "\n",
      "Timescale switching activated, Delta t changing to: 1.2e+08 yr\n",
      "Numer of iterations since previous Delta t: 101\n",
      "\n",
      "Timescale switching activated, Delta t changing to: 6.2e+07 yr\n",
      "Numer of iterations since previous Delta t: 101\n",
      "\n",
      "Timescale switching activated, Delta t changing to: 3.1e+07 yr\n",
      "Numer of iterations since previous Delta t: 101\n",
      "\n",
      "Timescale switching activated, Delta t changing to: 1.6e+07 yr\n",
      "Numer of iterations since previous Delta t: 101\n",
      "\n",
      "Timescale switching activated, Delta t changing to: 7.8e+06 yr\n",
      "Numer of iterations since previous Delta t: 101\n",
      "\n",
      "Timescale switching activated, Delta t changing to: 3.9e+06 yr\n",
      "Numer of iterations since previous Delta t: 101\n",
      "\n",
      "Timescale switching activated, Delta t changing to: 2e+06 yr\n",
      "Numer of iterations since previous Delta t: 101\n",
      "\n",
      "Timescale switching activated, Delta t changing to: 9.8e+05 yr\n",
      "Numer of iterations since previous Delta t: 101\n",
      "\n",
      "Timescale switching activated, Delta t changing to: 4.9e+05 yr\n",
      "Numer of iterations since previous Delta t: 101\n",
      "\n",
      "Timescale switching activated, Delta t changing to: 2.4e+05 yr\n",
      "Numer of iterations since previous Delta t: 101\n",
      "\n",
      "Timescale switching activated, Delta t changing to: 1.2e+05 yr\n",
      "Numer of iterations since previous Delta t: 101\n",
      "\n",
      "Timescale switching activated, Delta t changing to: 6.1e+04 yr\n",
      "Numer of iterations since previous Delta t: 101\n",
      "\n",
      "Timescale switching activated, Delta t changing to: 3.1e+04 yr\n",
      "Numer of iterations since previous Delta t: 101\n",
      "\n",
      "Timescale switching activated, Delta t changing to: 1.5e+04 yr\n",
      "Numer of iterations since previous Delta t: 101\n",
      "\n",
      "Timescale switching activated, Delta t changing to: 7.6e+03 yr\n",
      "Numer of iterations since previous Delta t: 101\n",
      "\n",
      "Timescale switching activated, Delta t changing to: 3.8e+03 yr\n",
      "Numer of iterations since previous Delta t: 101\n",
      "\n",
      "Timescale switching activated, Delta t changing to: 1.9e+03 yr\n",
      "Numer of iterations since previous Delta t: 101\n",
      "\n",
      "Timescale switching activated, Delta t changing to: 9.5e+02 yr\n",
      "Numer of iterations since previous Delta t: 101\n",
      "\n",
      "Timescale switching activated, Delta t changing to: 4.8e+02 yr\n",
      "Numer of iterations since previous Delta t: 101\n",
      "\n",
      "Timescale switching activated, Delta t changing to: 2.4e+02 yr\n",
      "Numer of iterations since previous Delta t: 101\n",
      "\n",
      "Timescale switching activated, Delta t changing to: 1.2e+02 yr\n",
      "Numer of iterations since previous Delta t: 101\n",
      "\n",
      "Timescale switching activated, Delta t changing to: 60 yr\n",
      "Numer of iterations since previous Delta t: 101\n",
      "\n",
      "Timescale switching activated, Delta t changing to: 30 yr\n",
      "Numer of iterations since previous Delta t: 101\n",
      "\n",
      "Timescale switching activated, Delta t changing to: 15 yr\n",
      "Numer of iterations since previous Delta t: 101\n",
      "\n",
      "Timescale switching activated, Delta t changing to: 7.5 yr\n",
      "Numer of iterations since previous Delta t: 101\n",
      "\n",
      "Delta t at lowest value: 7.5 yr\n",
      "Numer of iterations since previous Delta t: 101\n",
      "\n",
      "CN loop completed.\n",
      "Convergence: True\n",
      "Total number of iterations: 2727\n",
      "Total elapsed time at final iteration: 1.01e+11 yr\n",
      "CN solution complete.\n",
      "Total CN method run time: 8.769 s\n",
      "Process Complete\n",
      "=========================================================\n",
      "Calculating Radio Emissivity\n",
      "=========================================================\n",
      "Process Complete\n",
      "=========================================================\n",
      "Calculating Surface Brightness\n",
      "=========================================================\n",
      "Frequency mode: radio\n",
      "Process Complete\n"
     ]
    }
   ],
   "source": [
    "from dark_matters.control import runCalculation\n",
    "\n",
    "calcData,haloData,partData,magData,gasData,diffData,cosmoData = runCalculation(calcData,haloData,partData,magData,gasData,diffData,cosmoData,overWrite=True)"
   ]
  },
  {
   "cell_type": "markdown",
   "metadata": {},
   "source": [
    "Now I can store the output, I will do so using the yaml format. If I do not specify an 'fName' argument, the code assigns a name automatically"
   ]
  },
  {
   "cell_type": "code",
   "execution_count": 66,
   "metadata": {},
   "outputs": [],
   "source": [
    "from dark_matters.output import makeOutput\n",
    "\n",
    "makeOutput(calcData,haloData,partData,magData,gasData,diffData,cosmoData,outMode=\"yaml\")"
   ]
  },
  {
   "cell_type": "markdown",
   "metadata": {},
   "source": [
    "Now I will plot some of the output. Here I will choose one frequency and plot the surface brightness vs angular radius. For surface brightness, calcData['results']['finalData'] has one array per entry in calcData['mWIMP'], each array is calcData['fSampleNum'] by calcData['rSampleNum']. I can see the values using calcData['fSampleValues'] and calcData['angSampleValues'] for angular radii (when finding surface brightness only)."
   ]
  },
  {
   "cell_type": "code",
   "execution_count": 67,
   "metadata": {},
   "outputs": [
    {
     "data": {
      "image/png": "[encoded data removed]",
      "text/plain": [
       "<Figure size 432x288 with 1 Axes>"
      ]
     },
     "metadata": {
      "needs_background": "light"
     },
     "output_type": "display_data"
    }
   ],
   "source": [
    "from matplotlib import pyplot as plt\n",
    "\n",
    "sigV = 1.0\n",
    "freqIndex = 21\n",
    "\n",
    "for i in range(len(calcData['mWIMP'])):\n",
    "    plt.plot(calcData['angSampleValues'],calcData['results']['finalData'][i][freqIndex]*sigV,label=r\"$M_\\chi$ = \"+str(calcData['mWIMP'][i]))\n",
    "plt.xscale(\"log\")\n",
    "plt.yscale(\"log\")\n",
    "plt.ylabel(r\"I$(\\nu)$ (Jy/arcmin$^2$)\")\n",
    "plt.xlabel(r\"$\\Theta$ (arcmins)\")\n",
    "plt.title(\"Frequency = {:.2f} MHz\".format(calcData['fSampleValues'][freqIndex]))\n",
    "plt.legend()\n",
    "plt.show()"
   ]
  },
  {
   "cell_type": "markdown",
   "metadata": {},
   "source": [
    "Finally, I can produce a fits map for use if I need to compare to observations (by default the cross-section used here is $10^{-26}$ cm $^3$ s $^{-1}$ but the sigV argument can control this). Note I need to specify the location of the target centre in the form of an astropy SkyCoord object to do this. I have it calculated for 3 frequencies, 900 MHz, 1 GHz, and 1.1 GHz. By specifying display_slice = 0 I get the 900 MHz plot appearing. All the data is written to a fits file"
   ]
  },
  {
   "cell_type": "code",
   "execution_count": 68,
   "metadata": {},
   "outputs": [
    {
     "data": {
      "image/png": "[encoded data removed]",
      "text/plain": [
       "<Figure size 432x288 with 2 Axes>"
      ]
     },
     "metadata": {
      "needs_background": "light"
     },
     "output_type": "display_data"
    }
   ],
   "source": [
    "from astropy import units as u\n",
    "from astropy.coordinates import SkyCoord\n",
    "from dark_matters.output import fitsMap\n",
    "\n",
    "c = SkyCoord(ra=\"12h59m48.7s\", dec=+27.9086, frame='icrs',unit=(u.hourangle, u.deg))\n",
    "fitsMap(c,[0.9e3,1.0e3,1.1e3],calcData,haloData,partData,display_slice=0,sigV=1e-26) "
   ]
  }
 ],
 "metadata": {
  "interpreter": {
   "hash": "767d51c1340bd893661ea55ea3124f6de3c7a262a8b4abca0554b478b1e2ff90"
  },
  "kernelspec": {
   "display_name": "Python 3.8.10 64-bit",
   "language": "python",
   "name": "python3"
  },
  "language_info": {
   "codemirror_mode": {
    "name": "ipython",
    "version": 3
   },
   "file_extension": ".py",
   "mimetype": "text/x-python",
   "name": "python",
   "nbconvert_exporter": "python",
   "pygments_lexer": "ipython3",
   "version": "3.9.4"
  },
  "orig_nbformat": 4
 },
 "nbformat": 4,
 "nbformat_minor": 2
}
