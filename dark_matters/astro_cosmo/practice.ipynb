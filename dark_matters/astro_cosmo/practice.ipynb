{
 "cells": [
  {
   "cell_type": "code",
   "execution_count": 1,
   "id": "4d51332e",
   "metadata": {},
   "outputs": [
    {
     "data": {
      "text/plain": [
       "0.375"
      ]
     },
     "execution_count": 1,
     "metadata": {},
     "output_type": "execute_result"
    }
   ],
   "source": [
    "3/8"
   ]
  },
  {
   "cell_type": "code",
   "execution_count": 1,
   "id": "fa4e4d89",
   "metadata": {},
   "outputs": [
    {
     "data": {
      "text/plain": [
       "521.1047420531527"
      ]
     },
     "execution_count": 1,
     "metadata": {},
     "output_type": "execute_result"
    }
   ],
   "source": [
    "1/0.001919"
   ]
  },
  {
   "cell_type": "code",
   "execution_count": 2,
   "id": "0358456d",
   "metadata": {},
   "outputs": [
    {
     "data": {
      "text/plain": [
       "9.00900900900901"
      ]
     },
     "execution_count": 2,
     "metadata": {},
     "output_type": "execute_result"
    }
   ],
   "source": [
    "3000/333"
   ]
  },
  {
   "cell_type": "code",
   "execution_count": 5,
   "id": "64518274",
   "metadata": {},
   "outputs": [
    {
     "data": {
      "text/plain": [
       "(np.float64(0.01515460438813425), np.float64(0.9042676069660979))"
      ]
     },
     "execution_count": 5,
     "metadata": {},
     "output_type": "execute_result"
    }
   ],
   "source": [
    "import numpy as np\n",
    "\n",
    "# Constants\n",
    "M_sun_g = 1.98847e33           # grams\n",
    "kpc_to_cm = 3.086e21           # 1 kpc = 3.086e21 cm\n",
    "solar_mass_to_gev = 5.62e23 * M_sun_g  # g -> GeV\n",
    "\n",
    "# Given halo properties\n",
    "M_vir_solar = 1.24e15           # solar masses\n",
    "c_vir = 4.62                   # previously computed concentration ~4.62\n",
    "r_vir_kpc = 3000                # virial radius in kpc\n",
    "\n",
    "# Derived quantities\n",
    "r_vir_cm = r_vir_kpc * kpc_to_cm\n",
    "r_s_cm = r_vir_cm / c_vir\n",
    "M_vir_gev = M_vir_solar * solar_mass_to_gev\n",
    "\n",
    "# Compute structure function f(c)\n",
    "f_c = np.log(1 + c_vir) - c_vir / (1 + c_vir)\n",
    "\n",
    "# Compute rho_norm\n",
    "rho_norm = M_vir_gev / (4 * np.pi * r_s_cm**3 * f_c)\n",
    "\n",
    "rho_norm, f_c\n"
   ]
  },
  {
   "cell_type": "code",
   "execution_count": 12,
   "id": "df2952c1",
   "metadata": {},
   "outputs": [
    {
     "name": "stdout",
     "output_type": "stream",
     "text": [
      "\n",
      "Mvir = 1.24e+15 Msun, rvir = 3000 kpc\n",
      "  --> cvir = 6.6553\n",
      "  --> rho_norm = 3.5133e-02 GeV/cm³\n"
     ]
    }
   ],
   "source": [
    "import numpy as np\n",
    "from cosmology import cvir, rho_crit\n",
    "\n",
    "# --- Constants ---\n",
    "M_sun_g = 1.98847e33           # grams\n",
    "kpc_to_cm = 3.086e21           # 1 kpc = 3.086e21 cm\n",
    "solar_mass_to_gev = 5.62e23 * M_sun_g  # Your specified conversion\n",
    "\n",
    "# --- Manually define cosmology dictionary ---\n",
    "cosmo = {\n",
    "    'h': 0.6774,\n",
    "    'omega_m': 0.3089,\n",
    "    'omega_l': 0.6911,\n",
    "    'omega_b': 0.0486,\n",
    "    'cvir_mode': 'p12'  # Specify that you want to use P12 model\n",
    "}\n",
    "\n",
    "# --- Helper Functions ---\n",
    "def f_NFW(c):\n",
    "    \"\"\"Structure function for NFW profile\"\"\"\n",
    "    return np.log(1 + c) - c / (1 + c)\n",
    "\n",
    "def rho_norm_from_cvir(Mvir, rvir_kpc, cvir_value):\n",
    "    \"\"\"Compute rho_norm from Mvir, rvir, and concentration cvir\"\"\"\n",
    "    Mvir_gev = Mvir * solar_mass_to_gev\n",
    "    rvir_cm = rvir_kpc * kpc_to_cm\n",
    "    rs_cm = rvir_cm / cvir_value\n",
    "    f_c = f_NFW(cvir_value)\n",
    "    return Mvir_gev / (4 * np.pi * rs_cm**3 * f_c)\n",
    "\n",
    "# --- Inputs ---\n",
    "z = 0.023\n",
    "Mvir_list = [1.24e15]  # solar masses\n",
    "rvir_list = [3000]      # kpc\n",
    "\n",
    "# --- Computation Loop ---\n",
    "for Mvir, rvir in zip(Mvir_list, rvir_list):\n",
    "    cvir_value = cvir(Mvir, z, cosmo)\n",
    "    rho_norm = rho_norm_from_cvir(Mvir, rvir, cvir_value)\n",
    "    \n",
    "    print(f\"\\nMvir = {Mvir:.2e} Msun, rvir = {rvir} kpc\")\n",
    "    print(f\"  --> cvir = {cvir_value:.4f}\")\n",
    "    print(f\"  --> rho_norm = {rho_norm:.4e} GeV/cm³\")\n"
   ]
  }
 ],
 "metadata": {
  "kernelspec": {
   "display_name": "project_env",
   "language": "python",
   "name": "python3"
  },
  "language_info": {
   "codemirror_mode": {
    "name": "ipython",
    "version": 3
   },
   "file_extension": ".py",
   "mimetype": "text/x-python",
   "name": "python",
   "nbconvert_exporter": "python",
   "pygments_lexer": "ipython3",
   "version": "3.12.3"
  }
 },
 "nbformat": 4,
 "nbformat_minor": 5
}
